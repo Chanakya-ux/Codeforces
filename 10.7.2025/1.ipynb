{
 "cells": [
  {
   "cell_type": "markdown",
   "id": "81560f07",
   "metadata": {},
   "source": [
    "https://codeforces.com/contest/2144/problem/B"
   ]
  },
  {
   "cell_type": "code",
   "execution_count": null,
   "id": "42380abc",
   "metadata": {},
   "outputs": [],
   "source": [
    "#For finding the missed value when l.count(0)==1;\n",
    "#missedvalue = (set(range(1,len(l)+1))-set(l)).pop() is much better than missedvalue = [x for x in range(1, len(l) + 1) if x not in l]"
   ]
  }
 ],
 "metadata": {
  "language_info": {
   "name": "python"
  }
 },
 "nbformat": 4,
 "nbformat_minor": 5
}
