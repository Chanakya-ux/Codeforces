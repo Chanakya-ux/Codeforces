{
 "cells": [
  {
   "cell_type": "markdown",
   "id": "5e78da59",
   "metadata": {},
   "source": [
    "https://codeforces.com/contest/2143/problem/B"
   ]
  },
  {
   "cell_type": "code",
   "execution_count": null,
   "id": "1553ee7e",
   "metadata": {},
   "outputs": [],
   "source": [
    "#Split by pattern string\n",
    "arr = [18, 9, 7, 3, 2]\n",
    "pattern = \"113\"\n",
    "\n",
    "lengths = list(map(int, pattern))\n",
    "res = []\n",
    "i = 0\n",
    "for l in lengths:\n",
    "    res.append(arr[i:i+l])\n",
    "    i += l\n",
    "\n",
    "print(res)  # [[18], [9], [7, 3, 2]]\n"
   ]
  },
  {
   "cell_type": "markdown",
   "id": "ed1e260b",
   "metadata": {},
   "source": [
    "l = sorted(map(int, input().split()))\n",
    "s = sorted(map(int, input().split()))\n",
    "to directly sort the array.\n"
   ]
  }
 ],
 "metadata": {
  "language_info": {
   "name": "python"
  }
 },
 "nbformat": 4,
 "nbformat_minor": 5
}
